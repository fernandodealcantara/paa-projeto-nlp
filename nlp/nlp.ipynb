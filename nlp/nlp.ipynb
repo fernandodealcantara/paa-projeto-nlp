{
 "cells": [
  {
   "cell_type": "code",
   "execution_count": 1,
   "metadata": {},
   "outputs": [],
   "source": [
    "import json\n",
    "import spacy\n",
    "from spacy import displacy\n",
    "import pandas as pd\n",
    "from tqdm import tqdm\n",
    "\n",
    "import utils # local file"
   ]
  },
  {
   "cell_type": "code",
   "execution_count": 2,
   "metadata": {},
   "outputs": [],
   "source": [
    "# carregar características\n",
    "caracteristicas = utils.carregar_json(\"../data/caracteristicas.json\")\n",
    "# corrigir caracteristicas duplicadas e letras minusculas\n",
    "caracteristicas = list(set([c.lower() for c in caracteristicas]))"
   ]
  },
  {
   "cell_type": "code",
   "execution_count": 3,
   "metadata": {},
   "outputs": [],
   "source": [
    "dados_pessoas = utils.carregar_json(\"../data/dados_pessoas.json\")"
   ]
  },
  {
   "cell_type": "code",
   "execution_count": 4,
   "metadata": {},
   "outputs": [
    {
     "data": {
      "text/plain": [
       "['tok2vec', 'ner', 'sentencizer']"
      ]
     },
     "execution_count": 4,
     "metadata": {},
     "output_type": "execute_result"
    }
   ],
   "source": [
    "nlp_treinado = spacy.load(\"../data/models/model-best\")\n",
    "nlp_treinado.add_pipe('sentencizer')\n",
    "\n",
    "nlp_treinado.pipe_names"
   ]
  },
  {
   "cell_type": "code",
   "execution_count": 5,
   "metadata": {},
   "outputs": [
    {
     "name": "stderr",
     "output_type": "stream",
     "text": [
      "100%|██████████| 1756/1756 [01:03<00:00, 27.64it/s]\n"
     ]
    }
   ],
   "source": [
    "for pessoa in tqdm(dados_pessoas):\n",
    "    doc = nlp_treinado(pessoa[\"biografia\"])\n",
    "    pessoa[\"caracteristicas\"] = []\n",
    "    # caracteristicas\n",
    "    for ent in next(doc.sents).ents:\n",
    "        if (\n",
    "            ent.label_ == \"CARACTERISTICA\" # se a entidade for uma caracteristica\n",
    "            and ent.text.lower() in caracteristicas # se a caracteristica for conhecida\n",
    "            and ent.text.lower() not in pessoa[\"caracteristicas\"] # se a caracteristica ainda não foi adicionada\n",
    "        ):\n",
    "            pessoa[\"caracteristicas\"].append(ent.text.lower()) # adicionar caracteristica\n",
    "    # sexo\n",
    "    if pessoa[\"sexo\"]: # se o sexo for conhecido\n",
    "        pessoa[\"caracteristicas\"].append(pessoa[\"sexo\"].lower()) # adicionar sexo\n",
    "        if pessoa[\"sexo\"].lower() not in caracteristicas: # se o sexo ainda não foi adicionado\n",
    "            caracteristicas.append(pessoa[\"sexo\"].lower()) # adicionar sexo\n",
    "    # ano\n",
    "    if pessoa[\"ano\"] != None: # se o ano for conhecido\n",
    "        # se o ano for entre 1900 1950 ou 1950 2000\n",
    "        if 1900 <= pessoa[\"ano\"] < 1950:\n",
    "            pessoa[\"ano\"] = 1900\n",
    "        elif 1950 <= pessoa[\"ano\"] < 2000:\n",
    "            pessoa[\"ano\"] = 1950\n",
    "\n",
    "        pessoa[\"caracteristicas\"].append(str(pessoa[\"ano\"])) # adicionar ano\n",
    "        if str(pessoa[\"ano\"]) not in caracteristicas: # se o ano ainda não foi adicionado\n",
    "            caracteristicas.append(str(pessoa[\"ano\"])) # adicionar ano\n"
   ]
  },
  {
   "cell_type": "code",
   "execution_count": 14,
   "metadata": {},
   "outputs": [],
   "source": [
    "# se a pessoa tiver menos de tres caracteristicas, remove\n",
    "dados_pessoas = [p for p in dados_pessoas if len(p[\"caracteristicas\"]) >= 5]"
   ]
  },
  {
   "cell_type": "code",
   "execution_count": 15,
   "metadata": {},
   "outputs": [],
   "source": [
    "# save txt\n",
    "with open(\"../data/caracteristicas_nlp.txt\", \"w\") as f:\n",
    "    for p in dados_pessoas:\n",
    "        f.write(f\"{p['nome']}\\n\")\n",
    "        for c in p[\"caracteristicas\"]:\n",
    "            f.write(f\"\\t{c}\\n\")\n",
    "        f.write(\"\\n\")"
   ]
  },
  {
   "cell_type": "code",
   "execution_count": 16,
   "metadata": {},
   "outputs": [
    {
     "name": "stderr",
     "output_type": "stream",
     "text": [
      "100%|██████████| 824/824 [02:07<00:00,  6.45it/s]\n"
     ]
    }
   ],
   "source": [
    "# colunas pessoa + caracteristicas em ordem alfabetica\n",
    "columns = [\"nome\"] + sorted(caracteristicas)\n",
    "\n",
    "df = pd.DataFrame(columns=columns) # dataframe\n",
    "\n",
    "caracteristicas_nao_tabuladas = []\n",
    "\n",
    "for pessoa in tqdm(dados_pessoas):\n",
    "    row = [-1] * len(columns)\n",
    "    row[0] = pessoa[\"nome\"]\n",
    "    for caracteristica in pessoa[\"caracteristicas\"]:\n",
    "        try:\n",
    "          row[columns.index(caracteristica)] = 1\n",
    "        except:\n",
    "          caracteristicas_nao_tabuladas.append(caracteristica)\n",
    "    df.loc[len(df)] = row\n"
   ]
  },
  {
   "cell_type": "code",
   "execution_count": 17,
   "metadata": {},
   "outputs": [],
   "source": [
    "df.to_csv(\"../data/df.csv\", index=False)"
   ]
  },
  {
   "cell_type": "markdown",
   "metadata": {},
   "source": []
  }
 ],
 "metadata": {
  "kernelspec": {
   "display_name": "Python 3",
   "language": "python",
   "name": "python3"
  },
  "language_info": {
   "codemirror_mode": {
    "name": "ipython",
    "version": 3
   },
   "file_extension": ".py",
   "mimetype": "text/x-python",
   "name": "python",
   "nbconvert_exporter": "python",
   "pygments_lexer": "ipython3",
   "version": "3.10.6"
  },
  "orig_nbformat": 4,
  "vscode": {
   "interpreter": {
    "hash": "916dbcbb3f70747c44a77c7bcd40155683ae19c65e1c03b4aa3499c5328201f1"
   }
  }
 },
 "nbformat": 4,
 "nbformat_minor": 2
}
